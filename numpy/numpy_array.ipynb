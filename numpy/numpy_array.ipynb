{
 "cells": [
  {
   "cell_type": "markdown",
   "metadata": {},
   "source": [
    "# Numpy Array\n",
    "\n",
    "###### This is detailed tutorial of numpy array.\n",
    "###### Follow [our twitter]() for a daily tutorial.\n",
    "\n",
    "\n",
    "\n",
    "[Numpy Array](https://numpy.org/doc/stable/reference/routines.array-creation.html)"
   ]
  },
  {
   "cell_type": "code",
   "execution_count": 1,
   "metadata": {},
   "outputs": [
    {
     "name": "stdout",
     "output_type": "stream",
     "text": [
      "1.20.3\n"
     ]
    }
   ],
   "source": [
    "import numpy as np\n",
    "import pandas as pd\n",
    "import datetime\n",
    "import sys\n",
    "import matplotlib.pyplot as plt\n",
    "import seaborn as sns\n",
    "\n",
    "%matplotlib inline\n",
    "\n",
    "print(np.__version__)"
   ]
  },
  {
   "cell_type": "markdown",
   "metadata": {},
   "source": [
    "#### 1. numpy.empty¶\n",
    "numpy.empty(shape, dtype=float, order='C', *, like=None)  \n",
    "Return a new array of given shape and type, without initializing entries."
   ]
  },
  {
   "cell_type": "code",
   "execution_count": 2,
   "metadata": {},
   "outputs": [
    {
     "data": {
      "text/plain": [
       "array([ 8.02890124e-243, -1.31275838e-194])"
      ]
     },
     "execution_count": 2,
     "metadata": {},
     "output_type": "execute_result"
    }
   ],
   "source": [
    "# As mentioned, this method does not set the array value to zero. It, however, is supposed to be much\n",
    "# faster than numpy.zeros. Let's test it out.\n",
    "\n",
    "np.empty(shape=2)"
   ]
  },
  {
   "cell_type": "code",
   "execution_count": 37,
   "metadata": {},
   "outputs": [
    {
     "data": {
      "text/plain": [
       "array([-515396076, 1081078906])"
      ]
     },
     "execution_count": 37,
     "metadata": {},
     "output_type": "execute_result"
    }
   ],
   "source": [
    "np.empty(shape=2, dtype=int)"
   ]
  },
  {
   "cell_type": "code",
   "execution_count": 40,
   "metadata": {},
   "outputs": [
    {
     "name": "stdout",
     "output_type": "stream",
     "text": [
      "8000112\n",
      "4000112\n"
     ]
    }
   ],
   "source": [
    "# This was expected but dtype=int is much smaller than dtype=float\n",
    "\n",
    "print(sys.getsizeof(np.empty(shape=10**6, dtype=float)))\n",
    "print(sys.getsizeof(np.empty(shape=10**6, dtype=int)))"
   ]
  },
  {
   "cell_type": "code",
   "execution_count": 56,
   "metadata": {},
   "outputs": [],
   "source": [
    "def compare_exec_time(n_trial: int, n_rep: int, shape: tuple, order: str) -> None:\n",
    "    t_empty, t_zeros = [], []\n",
    "\n",
    "    for _ in range(n_trial):\n",
    "        t_i = datetime.datetime.now()\n",
    "        for __ in range(n_rep):\n",
    "            ___ = np.empty(shape=shape, order=order)\n",
    "        t_f = datetime.datetime.now()\n",
    "        del_t = (t_f - t_i).microseconds\n",
    "        t_empty.append(del_t)\n",
    "\n",
    "    for _ in range(n_trial):\n",
    "        t_i = datetime.datetime.now()\n",
    "        for __ in range(n_rep):\n",
    "            ___ = np.zeros(shape=shape, order=order)\n",
    "        t_f = datetime.datetime.now()\n",
    "        del_t = (t_f - t_i).microseconds\n",
    "        t_zeros.append(del_t)\n",
    "\n",
    "    empty_df = pd.DataFrame({\"method\": \"empty\", \"t\": t_empty})\n",
    "    zeros_df = pd.DataFrame({\"method\": \"zeros\", \"t\": t_zeros})\n",
    "    t_df = pd.concat([empty_df, zeros_df], axis=0)\n",
    "    \n",
    "    print(f\"mean execution time for the empty method (millisec): {np.mean(t_empty)}\")\n",
    "    print(f\"mean execution time for the zeros method (millisec): {np.mean(t_zeros)}\")\n",
    "    \n",
    "    sns.boxplot(x='method', y='t', data=t_df)"
   ]
  },
  {
   "cell_type": "code",
   "execution_count": 27,
   "metadata": {},
   "outputs": [],
   "source": [
    "N_TRIALS = 10\n",
    "N_REPS = 10**6"
   ]
  },
  {
   "cell_type": "code",
   "execution_count": 35,
   "metadata": {},
   "outputs": [
    {
     "name": "stdout",
     "output_type": "stream",
     "text": [
      "mean execution time for the empty method (millisec): 569090.8\n",
      "mean execution time for the zeros method (millisec): 567671.1\n"
     ]
    },
    {
     "data": {
      "image/png": "[encoded data removed]",
      "text/plain": [
       "<Figure size 432x288 with 1 Axes>"
      ]
     },
     "metadata": {
      "needs_background": "light"
     },
     "output_type": "display_data"
    }
   ],
   "source": [
    "compare_exec_time(N_TRIALS, N_REPS, 2, \"C\")"
   ]
  },
  {
   "cell_type": "code",
   "execution_count": 31,
   "metadata": {},
   "outputs": [
    {
     "name": "stdout",
     "output_type": "stream",
     "text": [
      "mean execution time for the empty method (millisec): 574632.1\n",
      "mean execution time for the zeros method (millisec): 586817.5\n"
     ]
    },
    {
     "data": {
      "image/png": "[encoded data removed]",
      "text/plain": [
       "<Figure size 432x288 with 1 Axes>"
      ]
     },
     "metadata": {
      "needs_background": "light"
     },
     "output_type": "display_data"
    }
   ],
   "source": [
    "compare_exec_time(N_TRIALS, N_REPS, 10, \"C\")"
   ]
  },
  {
   "cell_type": "code",
   "execution_count": 32,
   "metadata": {},
   "outputs": [
    {
     "name": "stdout",
     "output_type": "stream",
     "text": [
      "mean execution time for the empty method (millisec): 243924.9\n",
      "mean execution time for the zeros method (millisec): 260181.6\n"
     ]
    },
    {
     "data": {
      "image/png": "[encoded data removed]",
      "text/plain": [
       "<Figure size 432x288 with 1 Axes>"
      ]
     },
     "metadata": {
      "needs_background": "light"
     },
     "output_type": "display_data"
    }
   ],
   "source": [
    "compare_exec_time(N_TRIALS, N_REPS, (10, 10), \"C\")"
   ]
  },
  {
   "cell_type": "code",
   "execution_count": 33,
   "metadata": {},
   "outputs": [
    {
     "name": "stdout",
     "output_type": "stream",
     "text": [
      "mean execution time for the empty method (millisec): 385430.0\n",
      "mean execution time for the zeros method (millisec): 691456.3\n"
     ]
    },
    {
     "data": {
      "image/png": "[encoded data removed]",
      "text/plain": [
       "<Figure size 432x288 with 1 Axes>"
      ]
     },
     "metadata": {
      "needs_background": "light"
     },
     "output_type": "display_data"
    }
   ],
   "source": [
    "compare_exec_time(N_TRIALS, N_REPS, (10, 10, 10), \"C\")"
   ]
  },
  {
   "cell_type": "code",
   "execution_count": 34,
   "metadata": {},
   "outputs": [
    {
     "name": "stdout",
     "output_type": "stream",
     "text": [
      "mean execution time for the empty method (millisec): 574059.8\n",
      "mean execution time for the zeros method (millisec): 437742.7\n"
     ]
    },
    {
     "data": {
      "image/png": "[encoded data removed]",
      "text/plain": [
       "<Figure size 432x288 with 1 Axes>"
      ]
     },
     "metadata": {
      "needs_background": "light"
     },
     "output_type": "display_data"
    }
   ],
   "source": [
    "compare_exec_time(N_TRIALS, N_REPS, (10, 10, 10, 10), \"C\")"
   ]
  },
  {
   "cell_type": "code",
   "execution_count": 36,
   "metadata": {},
   "outputs": [
    {
     "name": "stdout",
     "output_type": "stream",
     "text": [
      "mean execution time for the empty method (millisec): 460874.0\n",
      "mean execution time for the zeros method (millisec): 383687.6\n"
     ]
    },
    {
     "data": {
      "image/png": "[encoded data removed]",
      "text/plain": [
       "<Figure size 432x288 with 1 Axes>"
      ]
     },
     "metadata": {
      "needs_background": "light"
     },
     "output_type": "display_data"
    }
   ],
   "source": [
    "compare_exec_time(N_TRIALS, N_REPS, (10, 10, 10, 10, 10), \"C\")"
   ]
  },
  {
   "cell_type": "markdown",
   "metadata": {},
   "source": [
    "#### On average, the empty method is much faster up to 3 dimentional array but array of higher order took longer with the empty method. It is however much more consistent in computational time."
   ]
  },
  {
   "cell_type": "code",
   "execution_count": 50,
   "metadata": {},
   "outputs": [
    {
     "data": {
      "text/plain": [
       "array([[[238.14      ,  82.03626223],\n",
       "        [372.06      ,  82.03626223],\n",
       "        [372.06      , 140.05621767]],\n",
       "\n",
       "       [[238.14      , 140.05621767],\n",
       "        [238.14      ,  82.03626223],\n",
       "        [137.7       ,  28.39102793]]])"
      ]
     },
     "execution_count": 50,
     "metadata": {},
     "output_type": "execute_result"
    }
   ],
   "source": [
    "np.empty(shape=(2, 3, 2), order=\"C\")"
   ]
  },
  {
   "cell_type": "code",
   "execution_count": 51,
   "metadata": {},
   "outputs": [
    {
     "data": {
      "text/plain": [
       "array([[[238.14      , 238.14      ],\n",
       "        [372.06      , 238.14      ],\n",
       "        [372.06      , 137.7       ]],\n",
       "\n",
       "       [[ 82.03626223, 140.05621767],\n",
       "        [ 82.03626223,  82.03626223],\n",
       "        [140.05621767,  28.39102793]]])"
      ]
     },
     "execution_count": 51,
     "metadata": {},
     "output_type": "execute_result"
    }
   ],
   "source": [
    "np.empty(shape=(2, 3, 2), order=\"F\")"
   ]
  },
  {
   "cell_type": "markdown",
   "metadata": {},
   "source": [
    "#### Two orders have identical elements but in different order. They are of the same type, size, and shape."
   ]
  },
  {
   "cell_type": "code",
   "execution_count": 53,
   "metadata": {},
   "outputs": [
    {
     "name": "stdout",
     "output_type": "stream",
     "text": [
      "<class 'numpy.ndarray'>\n",
      "<class 'numpy.ndarray'>\n"
     ]
    }
   ],
   "source": [
    "print(type(np.empty(shape=(2, 3, 2), order=\"C\")))\n",
    "print(type(np.empty(shape=(2, 3, 2), order=\"F\")))"
   ]
  },
  {
   "cell_type": "code",
   "execution_count": 54,
   "metadata": {},
   "outputs": [
    {
     "name": "stdout",
     "output_type": "stream",
     "text": [
      "240\n",
      "240\n"
     ]
    }
   ],
   "source": [
    "print(sys.getsizeof(np.empty(shape=(2, 3, 2), order=\"C\")))\n",
    "print(sys.getsizeof(np.empty(shape=(2, 3, 2), order=\"F\")))"
   ]
  },
  {
   "cell_type": "code",
   "execution_count": 55,
   "metadata": {},
   "outputs": [
    {
     "name": "stdout",
     "output_type": "stream",
     "text": [
      "(2, 3, 2)\n",
      "(2, 3, 2)\n"
     ]
    }
   ],
   "source": [
    "print(np.shape(np.empty(shape=(2, 3, 2), order=\"C\")))\n",
    "print(np.shape(np.empty(shape=(2, 3, 2), order=\"F\")))"
   ]
  },
  {
   "cell_type": "markdown",
   "metadata": {},
   "source": [
    "#### There are no significant differences between 2 orders in terms of computational time."
   ]
  },
  {
   "cell_type": "code",
   "execution_count": 58,
   "metadata": {},
   "outputs": [
    {
     "name": "stdout",
     "output_type": "stream",
     "text": [
      "mean execution time for the empty method (millisec): 250939.1\n",
      "mean execution time for the zeros method (millisec): 266677.5\n"
     ]
    },
    {
     "data": {
      "image/png": "[encoded data removed]",
      "text/plain": [
       "<Figure size 432x288 with 1 Axes>"
      ]
     },
     "metadata": {
      "needs_background": "light"
     },
     "output_type": "display_data"
    }
   ],
   "source": [
    "compare_exec_time(N_TRIALS, N_REPS, (10, 10), \"C\")"
   ]
  },
  {
   "cell_type": "code",
   "execution_count": 57,
   "metadata": {},
   "outputs": [
    {
     "name": "stdout",
     "output_type": "stream",
     "text": [
      "mean execution time for the empty method (millisec): 250173.8\n",
      "mean execution time for the zeros method (millisec): 259130.3\n"
     ]
    },
    {
     "data": {
      "image/png": "[encoded data removed]",
      "text/plain": [
       "<Figure size 432x288 with 1 Axes>"
      ]
     },
     "metadata": {
      "needs_background": "light"
     },
     "output_type": "display_data"
    }
   ],
   "source": [
    "compare_exec_time(N_TRIALS, N_REPS, (10, 10), \"F\")"
   ]
  },
  {
   "cell_type": "markdown",
   "metadata": {},
   "source": [
    "#### 1. numpy.empty_like¶\n",
    "numpy.empty_like(prototype, dtype=None, order='K', subok=True, shape=None)  \n",
    "Return a new array with the same shape and type as a given array."
   ]
  },
  {
   "cell_type": "code",
   "execution_count": 23,
   "metadata": {},
   "outputs": [],
   "source": [
    "np_array_3_2 = np.array([[1, 2, 3], [4, 5, 6]])"
   ]
  },
  {
   "cell_type": "code",
   "execution_count": 24,
   "metadata": {},
   "outputs": [
    {
     "data": {
      "text/plain": [
       "array([[-383438976,        542,          0],\n",
       "       [         0,     131074, 1953459312]])"
      ]
     },
     "execution_count": 24,
     "metadata": {},
     "output_type": "execute_result"
    }
   ],
   "source": [
    "np.empty_like(np_array_3_2)"
   ]
  },
  {
   "cell_type": "code",
   "execution_count": 49,
   "metadata": {},
   "outputs": [],
   "source": [
    "def compare_exec_time_empty_like(n_trial: int, n_rep: int, shape: tuple, order: str) -> None:\n",
    "    t_empty, t_zeros = [], []\n",
    "\n",
    "    for _ in range(n_trial):\n",
    "        t_i = datetime.datetime.now()\n",
    "        for __ in range(n_rep):\n",
    "            ___ = np.empty_like(np.empty(shape=shape), order=order)\n",
    "        t_f = datetime.datetime.now()\n",
    "        del_t = (t_f - t_i).microseconds\n",
    "        t_empty.append(del_t)\n",
    "\n",
    "    for _ in range(n_trial):\n",
    "        t_i = datetime.datetime.now()\n",
    "        for __ in range(n_rep):\n",
    "            ___ = np.zeros_like(np.empty(shape=shape), order=order)\n",
    "        t_f = datetime.datetime.now()\n",
    "        del_t = (t_f - t_i).microseconds\n",
    "        t_zeros.append(del_t)\n",
    "\n",
    "    empty_df = pd.DataFrame({\"method\": \"empty\", \"t\": t_empty})\n",
    "    zeros_df = pd.DataFrame({\"method\": \"zeros\", \"t\": t_zeros})\n",
    "    t_df = pd.concat([empty_df, zeros_df], axis=0)\n",
    "    \n",
    "    print(f\"mean execution time for the empty method (millisec): {np.mean(t_empty)}\")\n",
    "    print(f\"mean execution time for the zeros method (millisec): {np.mean(t_zeros)}\")\n",
    "    \n",
    "    sns.boxplot(x='method', y='t', data=t_df)"
   ]
  },
  {
   "cell_type": "code",
   "execution_count": 50,
   "metadata": {},
   "outputs": [],
   "source": [
    "N_TRIALS = 10\n",
    "N_REPS = 10**5"
   ]
  },
  {
   "cell_type": "code",
   "execution_count": 54,
   "metadata": {},
   "outputs": [
    {
     "name": "stdout",
     "output_type": "stream",
     "text": [
      "mean execution time for the empty method (millisec): 113647.1\n",
      "mean execution time for the zeros method (millisec): 368535.3\n"
     ]
    },
    {
     "data": {
      "image/png": "[encoded data removed]",
      "text/plain": [
       "<Figure size 432x288 with 1 Axes>"
      ]
     },
     "metadata": {
      "needs_background": "light"
     },
     "output_type": "display_data"
    }
   ],
   "source": [
    "compare_exec_time_empty_like(N_TRIALS, N_REPS, (3, 3), \"C\")"
   ]
  },
  {
   "cell_type": "code",
   "execution_count": 41,
   "metadata": {},
   "outputs": [
    {
     "name": "stdout",
     "output_type": "stream",
     "text": [
      "mean execution time for the empty method (millisec): 3.1\n",
      "mean execution time for the zeros method (millisec): 12.0\n"
     ]
    },
    {
     "data": {
      "image/png": "[encoded data removed]",
      "text/plain": [
       "<Figure size 432x288 with 1 Axes>"
      ]
     },
     "metadata": {
      "needs_background": "light"
     },
     "output_type": "display_data"
    }
   ],
   "source": [
    "compare_exec_time_empty_like(N_TRIALS, N_REPS, (3, 3, 3), \"C\")"
   ]
  },
  {
   "cell_type": "markdown",
   "metadata": {},
   "source": [
    "#### Similarly, the emoty_like method starts to take longer than the zeros_like method for arrays of 4 or higher dimension."
   ]
  },
  {
   "cell_type": "code",
   "execution_count": 51,
   "metadata": {},
   "outputs": [
    {
     "name": "stdout",
     "output_type": "stream",
     "text": [
      "mean execution time for the empty method (millisec): 366769.9\n",
      "mean execution time for the zeros method (millisec): 214786.2\n"
     ]
    },
    {
     "data": {
      "image/png": "[encoded data removed]",
      "text/plain": [
       "<Figure size 432x288 with 1 Axes>"
      ]
     },
     "metadata": {
      "needs_background": "light"
     },
     "output_type": "display_data"
    }
   ],
   "source": [
    "compare_exec_time_empty_like(N_TRIALS, N_REPS, (3, 3, 3, 3), \"C\")"
   ]
  },
  {
   "cell_type": "code",
   "execution_count": 52,
   "metadata": {},
   "outputs": [
    {
     "name": "stdout",
     "output_type": "stream",
     "text": [
      "mean execution time for the empty method (millisec): 421576.0\n",
      "mean execution time for the zeros method (millisec): 296492.5\n"
     ]
    },
    {
     "data": {
      "image/png": "[encoded data removed]",
      "text/plain": [
       "<Figure size 432x288 with 1 Axes>"
      ]
     },
     "metadata": {
      "needs_background": "light"
     },
     "output_type": "display_data"
    }
   ],
   "source": [
    "compare_exec_time_empty_like(N_TRIALS, N_REPS, (3, 3, 3, 3, 3), \"C\")"
   ]
  },
  {
   "cell_type": "code",
   "execution_count": null,
   "metadata": {},
   "outputs": [],
   "source": []
  }
 ],
 "metadata": {
  "kernelspec": {
   "display_name": "Python 3",
   "language": "python",
   "name": "python3"
  },
  "language_info": {
   "codemirror_mode": {
    "name": "ipython",
    "version": 3
   },
   "file_extension": ".py",
   "mimetype": "text/x-python",
   "name": "python",
   "nbconvert_exporter": "python",
   "pygments_lexer": "ipython3",
   "version": "3.8.3"
  }
 },
 "nbformat": 4,
 "nbformat_minor": 5
}
